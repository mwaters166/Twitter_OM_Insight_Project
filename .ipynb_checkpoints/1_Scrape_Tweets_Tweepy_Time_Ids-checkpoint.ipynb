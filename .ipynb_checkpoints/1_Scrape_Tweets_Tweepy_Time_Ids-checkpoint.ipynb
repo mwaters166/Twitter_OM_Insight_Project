{
 "cells": [
  {
   "cell_type": "markdown",
   "metadata": {},
   "source": [
    "# Developing a workaround for Tweepy, to obtain tweets from specific blocks of time\n",
    "\n",
    "#### Michele Waters"
   ]
  },
  {
   "cell_type": "markdown",
   "metadata": {},
   "source": [
    "* Problem: I would like to be able to search for tweets from individual users by date range. However, Tweepy only takes tweet ids\n",
    "\n",
    "* Solution: I want to get tweet ids that correspond to specific times. We can do this using 'big_ben_clock' a Twitter bot that has tweeted relatively consistently every hour since October 30, 2009. \n",
    "\n",
    "* Goal: Collect 'big_ben_clock''s tweet ids for every tweet at midnight (twitter time; 1am London time) using snscrape, so that these ids can be used to collect tweets on specific dates with Tweepy"
   ]
  },
  {
   "cell_type": "markdown",
   "metadata": {},
   "source": [
    "### Scrape 'big_ben_clock' tweet urls from 2016-2020"
   ]
  },
  {
   "cell_type": "markdown",
   "metadata": {},
   "source": [
    "* Use snscrape to get tweet urls from tweets associated with 'big_ben_clock'. These can be obtained all at once, but I found it easier to put urls from each year into their own file, so that I can later use Tweepy in batches "
   ]
  },
  {
   "cell_type": "code",
   "execution_count": 208,
   "metadata": {},
   "outputs": [],
   "source": [
    "#!pip install snscrape\n",
    "import pandas as pd"
   ]
  },
  {
   "cell_type": "code",
   "execution_count": 92,
   "metadata": {},
   "outputs": [],
   "source": [
    "#To grab all big_ben_clock tweet:\n",
    "#!snscrape twitter-search \"@big_ben_clock since:2016-10-30 until:2020-09-27\"> big_ben_clock_tweets.txt"
   ]
  },
  {
   "cell_type": "code",
   "execution_count": 237,
   "metadata": {},
   "outputs": [],
   "source": [
    "#Function to build snscrape syntax\n",
    "def build_snscrape_criteria(user_name='big_ben_clock', since_date='2019-01-01', until_date='2020-01-01', file_name='big_ben_clock_2019_tweets.txt'):\n",
    "    return f'!snscrape twitter-search \"@{user_name} since:{since_date} until:{until_date}\"> {file_name}'"
   ]
  },
  {
   "cell_type": "code",
   "execution_count": 236,
   "metadata": {},
   "outputs": [
    {
     "data": {
      "text/plain": [
       "'!snscrape twitter-search \"@big_ben_clock since:2020-01-01 until:2020-09-30\"> big_ben_clock_2020_tweets.txt'"
      ]
     },
     "execution_count": 236,
     "metadata": {},
     "output_type": "execute_result"
    }
   ],
   "source": [
    "#Grab big_ben_clock 2020 tweets\n",
    "build_snscrape_criteria(user_name='big_ben_clock', since_date='2020-01-01', until_date='2020-09-30', file_name='big_ben_clock_2020_tweets.txt')"
   ]
  },
  {
   "cell_type": "code",
   "execution_count": 238,
   "metadata": {},
   "outputs": [],
   "source": [
    "!snscrape twitter-search \"@big_ben_clock since:2020-01-01 until:2020-09-30\"> big_ben_clock_2020_tweets.txt"
   ]
  },
  {
   "cell_type": "code",
   "execution_count": 239,
   "metadata": {},
   "outputs": [
    {
     "data": {
      "text/plain": [
       "'!snscrape twitter-search \"@big_ben_clock since:2019-01-01 until:2020-01-01\"> big_ben_clock_2019_tweets.txt'"
      ]
     },
     "execution_count": 239,
     "metadata": {},
     "output_type": "execute_result"
    }
   ],
   "source": [
    "#Grab big_ben_clock 2019 tweets\n",
    "build_snscrape_criteria(user_name='big_ben_clock', since_date='2019-01-01', until_date='2020-01-01', file_name='big_ben_clock_2019_tweets.txt')"
   ]
  },
  {
   "cell_type": "code",
   "execution_count": 240,
   "metadata": {},
   "outputs": [],
   "source": [
    "!snscrape twitter-search \"@big_ben_clock since:2019-01-01 until:2020-01-01\"> big_ben_clock_2019_tweets.txt"
   ]
  },
  {
   "cell_type": "code",
   "execution_count": 241,
   "metadata": {},
   "outputs": [
    {
     "data": {
      "text/plain": [
       "'!snscrape twitter-search \"@big_ben_clock since:2018-01-01 until:2019-01-01\"> big_ben_clock_2018_tweets.txt'"
      ]
     },
     "execution_count": 241,
     "metadata": {},
     "output_type": "execute_result"
    }
   ],
   "source": [
    "#Grab big_ben_clock 2018 tweets\n",
    "build_snscrape_criteria(user_name='big_ben_clock', since_date='2018-01-01', until_date='2019-01-01', file_name='big_ben_clock_2018_tweets.txt')"
   ]
  },
  {
   "cell_type": "code",
   "execution_count": 242,
   "metadata": {},
   "outputs": [],
   "source": [
    "!snscrape twitter-search \"@big_ben_clock since:2018-01-01 until:2019-01-01\"> big_ben_clock_2018_tweets.txt"
   ]
  },
  {
   "cell_type": "code",
   "execution_count": 243,
   "metadata": {},
   "outputs": [
    {
     "data": {
      "text/plain": [
       "'!snscrape twitter-search \"@big_ben_clock since:2017-01-01 until:2018-01-01\"> big_ben_clock_2017_tweets.txt'"
      ]
     },
     "execution_count": 243,
     "metadata": {},
     "output_type": "execute_result"
    }
   ],
   "source": [
    "#Grab big_ben_clock 2017 tweets\n",
    "build_snscrape_criteria(user_name='big_ben_clock', since_date='2017-01-01', until_date='2018-01-01', file_name='big_ben_clock_2017_tweets.txt')"
   ]
  },
  {
   "cell_type": "code",
   "execution_count": 244,
   "metadata": {},
   "outputs": [],
   "source": [
    "!snscrape twitter-search \"@big_ben_clock since:2017-01-01 until:2018-01-01\"> big_ben_clock_2017_tweets.txt"
   ]
  },
  {
   "cell_type": "code",
   "execution_count": 245,
   "metadata": {},
   "outputs": [
    {
     "data": {
      "text/plain": [
       "'!snscrape twitter-search \"@big_ben_clock since:2016-01-01 until:2017-01-01\"> big_ben_clock_2016_tweets.txt'"
      ]
     },
     "execution_count": 245,
     "metadata": {},
     "output_type": "execute_result"
    }
   ],
   "source": [
    "#Grab big_ben_clock 2016 tweets\n",
    "build_snscrape_criteria(user_name='big_ben_clock', since_date='2016-01-01', until_date='2017-01-01', file_name='big_ben_clock_2016_tweets.txt')"
   ]
  },
  {
   "cell_type": "code",
   "execution_count": 246,
   "metadata": {},
   "outputs": [],
   "source": [
    "!snscrape twitter-search \"@big_ben_clock since:2016-01-01 until:2017-01-01\"> big_ben_clock_2016_tweets.txt"
   ]
  },
  {
   "cell_type": "markdown",
   "metadata": {},
   "source": [
    "* Create a dictionary containing tweet urls, with each year as dictionary key"
   ]
  },
  {
   "cell_type": "code",
   "execution_count": 247,
   "metadata": {},
   "outputs": [],
   "source": [
    "def get_tweet_urls_dict(user_name='big_ben_clock', dates=['2016', '2017', '2018', '2019', '2020']):\n",
    "    tweet_dict={}\n",
    "    for year in dates:\n",
    "        tweet_dict[year]=pd.read_csv(f'{user_name}_{year}_tweets.txt', header=None)\n",
    "    return tweet_dict"
   ]
  },
  {
   "cell_type": "code",
   "execution_count": 248,
   "metadata": {},
   "outputs": [],
   "source": [
    "tweet_dict=get_tweet_urls_dict()"
   ]
  },
  {
   "cell_type": "code",
   "execution_count": 253,
   "metadata": {},
   "outputs": [
    {
     "data": {
      "text/html": [
       "<div>\n",
       "<style scoped>\n",
       "    .dataframe tbody tr th:only-of-type {\n",
       "        vertical-align: middle;\n",
       "    }\n",
       "\n",
       "    .dataframe tbody tr th {\n",
       "        vertical-align: top;\n",
       "    }\n",
       "\n",
       "    .dataframe thead th {\n",
       "        text-align: right;\n",
       "    }\n",
       "</style>\n",
       "<table border=\"1\" class=\"dataframe\">\n",
       "  <thead>\n",
       "    <tr style=\"text-align: right;\">\n",
       "      <th></th>\n",
       "      <th>0</th>\n",
       "    </tr>\n",
       "  </thead>\n",
       "  <tbody>\n",
       "    <tr>\n",
       "      <th>0</th>\n",
       "      <td>https://twitter.com/BigBenTracker/status/13110...</td>\n",
       "    </tr>\n",
       "    <tr>\n",
       "      <th>1</th>\n",
       "      <td>https://twitter.com/tableau/status/13077262712...</td>\n",
       "    </tr>\n",
       "    <tr>\n",
       "      <th>2</th>\n",
       "      <td>https://twitter.com/big_ben_clock/status/13110...</td>\n",
       "    </tr>\n",
       "    <tr>\n",
       "      <th>3</th>\n",
       "      <td>https://twitter.com/atzcnt/status/131101827391...</td>\n",
       "    </tr>\n",
       "    <tr>\n",
       "      <th>4</th>\n",
       "      <td>https://twitter.com/BigBenTracker/status/13110...</td>\n",
       "    </tr>\n",
       "  </tbody>\n",
       "</table>\n",
       "</div>"
      ],
      "text/plain": [
       "                                                   0\n",
       "0  https://twitter.com/BigBenTracker/status/13110...\n",
       "1  https://twitter.com/tableau/status/13077262712...\n",
       "2  https://twitter.com/big_ben_clock/status/13110...\n",
       "3  https://twitter.com/atzcnt/status/131101827391...\n",
       "4  https://twitter.com/BigBenTracker/status/13110..."
      ]
     },
     "execution_count": 253,
     "metadata": {},
     "output_type": "execute_result"
    }
   ],
   "source": [
    "tweet_dict['2020'].head()"
   ]
  },
  {
   "cell_type": "markdown",
   "metadata": {},
   "source": [
    "* The urls scraped above include a mixture of tweet urls from both 'big_ben_clock' and tweets urls from accounts that replied to 'big_ben_clock'. Let's get the tweet ids from just the tweets from big_ben_clock"
   ]
  },
  {
   "cell_type": "code",
   "execution_count": 257,
   "metadata": {},
   "outputs": [],
   "source": [
    "def get_tweet_ids(user_name, tweet_urls):\n",
    "    tweet_ids=[tweet.split(f'https://twitter.com/{user_name}/status/')[1] for tweet in tweet_urls[0] if f'{user_name}/' in tweet]\n",
    "    return tweet_ids"
   ]
  },
  {
   "cell_type": "code",
   "execution_count": 258,
   "metadata": {},
   "outputs": [],
   "source": [
    "tweet_id_dict={year: get_tweet_ids('big_ben_clock', tweet_dict[year]) for year in tweet_dict.keys()}"
   ]
  },
  {
   "cell_type": "code",
   "execution_count": 261,
   "metadata": {},
   "outputs": [
    {
     "data": {
      "text/plain": [
       "['1311034031853756416',\n",
       " '1311017917274828801',\n",
       " '1311003070843805696',\n",
       " '1310987968325332993',\n",
       " '1310972617210433537']"
      ]
     },
     "execution_count": 261,
     "metadata": {},
     "output_type": "execute_result"
    }
   ],
   "source": [
    "tweet_id_dict['2020'][:5]"
   ]
  },
  {
   "cell_type": "code",
   "execution_count": 262,
   "metadata": {},
   "outputs": [
    {
     "data": {
      "text/plain": [
       "['815345942887092224',\n",
       " '815332214871363585',\n",
       " '815317116274491392',\n",
       " '815302777312342016',\n",
       " '815286662502772736']"
      ]
     },
     "execution_count": 262,
     "metadata": {},
     "output_type": "execute_result"
    }
   ],
   "source": [
    "tweet_id_dict['2016'][:5]"
   ]
  },
  {
   "cell_type": "markdown",
   "metadata": {},
   "source": [
    "### Get Tweets from tweet ids using Tweepy"
   ]
  },
  {
   "cell_type": "markdown",
   "metadata": {},
   "source": [
    "* Now that we have tweet ids for every big_ben_clock tweet from 2016-2020, let's get the actual tweets using Tweepy (Note: requires a Twitter Developer Account. Apply for one here: https://developer.twitter.com/en/apply-for-access)"
   ]
  },
  {
   "cell_type": "code",
   "execution_count": 265,
   "metadata": {},
   "outputs": [],
   "source": [
    "import tweepy"
   ]
  },
  {
   "cell_type": "code",
   "execution_count": 266,
   "metadata": {},
   "outputs": [],
   "source": [
    "#get api keys and access token keys \n",
    "tokens_df= pd.read_csv('keys_tokens.csv')"
   ]
  },
  {
   "cell_type": "code",
   "execution_count": 267,
   "metadata": {},
   "outputs": [],
   "source": [
    "#Function to authorize api with keys and tokens\n",
    "#Note: wait_on_rate_limit=True prevents rate limiting\n",
    "def auth_api(api_key, api_secret_key, access_token, access_token_secret):\n",
    "    auth = tweepy.OAuthHandler(api_key, api_secret_key)\n",
    "    auth.set_access_token(access_token, access_token_secret)\n",
    "    api = tweepy.API(auth, wait_on_rate_limit=True) \n",
    "    return api"
   ]
  },
  {
   "cell_type": "code",
   "execution_count": 268,
   "metadata": {},
   "outputs": [],
   "source": [
    "#Authorize api using Twitter developer tokens\n",
    "api=auth_api(api_key=tokens_df['api_key'][0],api_secret_key=tokens_df['api_secret_key'][0],access_token=tokens_df['access_token'][0],access_token_secret=tokens_df['access_token_secret'][0])"
   ]
  },
  {
   "cell_type": "code",
   "execution_count": 399,
   "metadata": {},
   "outputs": [],
   "source": [
    "#Creation of Tweepy class\n",
    "class Tweepy():\n",
    "    def __init__(self, api, user_name):\n",
    "        self.api=api\n",
    "        self.user=api.get_user(user_name)\n",
    "        self.id=self.user.id\n",
    "        self.follower_num=self.user.followers_count\n",
    "        self.friend_num=self.user.friends_count\n",
    "    #Gets user account information, returning select attributes\n",
    "    def get_user_info_df(self, result='dictionary'):\n",
    "        select_attributes=['screen_name','name','id', 'profile_location', 'description',\\\n",
    "                           'protected','followers_count', 'friends_count', 'listed_count', \\\n",
    "                           'created_at','profile_image_url','favourites_count','verified', \\\n",
    "                           'statuses_count','lang']\n",
    "        select_info_dict={k:v for k, v in self.user._json.items() if k in select_attributes}\n",
    "        if result=='df':\n",
    "            select_info_dict=pd.DataFrame(select_info_dict, index=[0])\n",
    "        return select_info_dict\n",
    "    #Gets last ~3200 tweets from user\n",
    "    def get_user_tweets(self, since_id=None, max_id=None, num_tweets=0):\n",
    "        return pd.DataFrame([status._json for status in tweepy.Cursor(api.user_timeline, id=self.id, since_id=since_id, max_id=max_id, tweet_mode='extended').items(num_tweets)])\n",
    "    #Gets tweets from user from a tweet id list\n",
    "    def get_tweets_from_tweet_id_list(self, id_list=[1308815533052133382]):\n",
    "        return pd.DataFrame([api.get_status(id=id)._json for id in id_list])"
   ]
  },
  {
   "cell_type": "code",
   "execution_count": 272,
   "metadata": {},
   "outputs": [],
   "source": [
    "#Initilaize tweepy class\n",
    "big_ben_tweepy=Tweepy(api, 'big_ben_clock')"
   ]
  },
  {
   "cell_type": "code",
   "execution_count": 273,
   "metadata": {},
   "outputs": [
    {
     "data": {
      "text/plain": [
       "dict_keys(['2016', '2017', '2018', '2019', '2020'])"
      ]
     },
     "execution_count": 273,
     "metadata": {},
     "output_type": "execute_result"
    }
   ],
   "source": [
    "tweet_id_dict.keys()"
   ]
  },
  {
   "cell_type": "code",
   "execution_count": 275,
   "metadata": {},
   "outputs": [
    {
     "data": {
      "text/plain": [
       "['815345942887092224',\n",
       " '815332214871363585',\n",
       " '815317116274491392',\n",
       " '815302777312342016',\n",
       " '815286662502772736']"
      ]
     },
     "execution_count": 275,
     "metadata": {},
     "output_type": "execute_result"
    }
   ],
   "source": [
    "tweet_id_dict['2016'][:5]"
   ]
  },
  {
   "cell_type": "code",
   "execution_count": 290,
   "metadata": {},
   "outputs": [],
   "source": [
    "#To conserve time, will only save 2020 tweets\n",
    "#Note: there appears to be a gap in 2019, early 2020, and other discrepancies in tweet activity; so it is worth double checking for consistency for other date ranges\n",
    "big_ben_tweet_dict={year: big_ben_tweepy.get_tweets_from_tweet_id_list(tweet_id_dict[year]) for year in ['2020']}"
   ]
  },
  {
   "cell_type": "code",
   "execution_count": 344,
   "metadata": {},
   "outputs": [
    {
     "data": {
      "text/html": [
       "<div>\n",
       "<style scoped>\n",
       "    .dataframe tbody tr th:only-of-type {\n",
       "        vertical-align: middle;\n",
       "    }\n",
       "\n",
       "    .dataframe tbody tr th {\n",
       "        vertical-align: top;\n",
       "    }\n",
       "\n",
       "    .dataframe thead th {\n",
       "        text-align: right;\n",
       "    }\n",
       "</style>\n",
       "<table border=\"1\" class=\"dataframe\">\n",
       "  <thead>\n",
       "    <tr style=\"text-align: right;\">\n",
       "      <th></th>\n",
       "      <th>created_at</th>\n",
       "      <th>id</th>\n",
       "      <th>id_str</th>\n",
       "      <th>text</th>\n",
       "      <th>truncated</th>\n",
       "      <th>entities</th>\n",
       "      <th>source</th>\n",
       "      <th>in_reply_to_status_id</th>\n",
       "      <th>in_reply_to_status_id_str</th>\n",
       "      <th>in_reply_to_user_id</th>\n",
       "      <th>...</th>\n",
       "      <th>place</th>\n",
       "      <th>contributors</th>\n",
       "      <th>is_quote_status</th>\n",
       "      <th>retweet_count</th>\n",
       "      <th>favorite_count</th>\n",
       "      <th>favorited</th>\n",
       "      <th>retweeted</th>\n",
       "      <th>lang</th>\n",
       "      <th>date</th>\n",
       "      <th>hour</th>\n",
       "    </tr>\n",
       "  </thead>\n",
       "  <tbody>\n",
       "    <tr>\n",
       "      <th>0</th>\n",
       "      <td>2020-09-29 20:04:05+00:00</td>\n",
       "      <td>1311034031853756416</td>\n",
       "      <td>1311034031853756416</td>\n",
       "      <td>BONG BONG BONG BONG BONG BONG BONG BONG BONG</td>\n",
       "      <td>False</td>\n",
       "      <td>{'hashtags': [], 'symbols': [], 'user_mentions...</td>\n",
       "      <td>&lt;a href=\"http://www.floodgap.com/software/ttyt...</td>\n",
       "      <td>None</td>\n",
       "      <td>None</td>\n",
       "      <td>None</td>\n",
       "      <td>...</td>\n",
       "      <td>None</td>\n",
       "      <td>None</td>\n",
       "      <td>False</td>\n",
       "      <td>10</td>\n",
       "      <td>72</td>\n",
       "      <td>False</td>\n",
       "      <td>False</td>\n",
       "      <td>tl</td>\n",
       "      <td>9/29/2020</td>\n",
       "      <td>20</td>\n",
       "    </tr>\n",
       "    <tr>\n",
       "      <th>1</th>\n",
       "      <td>2020-09-29 19:00:03+00:00</td>\n",
       "      <td>1311017917274828801</td>\n",
       "      <td>1311017917274828801</td>\n",
       "      <td>BONG BONG BONG BONG BONG BONG BONG BONG</td>\n",
       "      <td>False</td>\n",
       "      <td>{'hashtags': [], 'symbols': [], 'user_mentions...</td>\n",
       "      <td>&lt;a href=\"http://www.floodgap.com/software/ttyt...</td>\n",
       "      <td>None</td>\n",
       "      <td>None</td>\n",
       "      <td>None</td>\n",
       "      <td>...</td>\n",
       "      <td>None</td>\n",
       "      <td>None</td>\n",
       "      <td>False</td>\n",
       "      <td>14</td>\n",
       "      <td>87</td>\n",
       "      <td>False</td>\n",
       "      <td>False</td>\n",
       "      <td>tl</td>\n",
       "      <td>9/29/2020</td>\n",
       "      <td>19</td>\n",
       "    </tr>\n",
       "    <tr>\n",
       "      <th>2</th>\n",
       "      <td>2020-09-29 18:01:04+00:00</td>\n",
       "      <td>1311003070843805696</td>\n",
       "      <td>1311003070843805696</td>\n",
       "      <td>BONG BONG BONG BONG BONG BONG BONG</td>\n",
       "      <td>False</td>\n",
       "      <td>{'hashtags': [], 'symbols': [], 'user_mentions...</td>\n",
       "      <td>&lt;a href=\"http://www.floodgap.com/software/ttyt...</td>\n",
       "      <td>None</td>\n",
       "      <td>None</td>\n",
       "      <td>None</td>\n",
       "      <td>...</td>\n",
       "      <td>None</td>\n",
       "      <td>None</td>\n",
       "      <td>False</td>\n",
       "      <td>23</td>\n",
       "      <td>83</td>\n",
       "      <td>False</td>\n",
       "      <td>False</td>\n",
       "      <td>tl</td>\n",
       "      <td>9/29/2020</td>\n",
       "      <td>18</td>\n",
       "    </tr>\n",
       "    <tr>\n",
       "      <th>3</th>\n",
       "      <td>2020-09-29 17:01:03+00:00</td>\n",
       "      <td>1310987968325332993</td>\n",
       "      <td>1310987968325332993</td>\n",
       "      <td>BONG BONG BONG BONG BONG BONG</td>\n",
       "      <td>False</td>\n",
       "      <td>{'hashtags': [], 'symbols': [], 'user_mentions...</td>\n",
       "      <td>&lt;a href=\"http://www.floodgap.com/software/ttyt...</td>\n",
       "      <td>None</td>\n",
       "      <td>None</td>\n",
       "      <td>None</td>\n",
       "      <td>...</td>\n",
       "      <td>None</td>\n",
       "      <td>None</td>\n",
       "      <td>False</td>\n",
       "      <td>18</td>\n",
       "      <td>90</td>\n",
       "      <td>False</td>\n",
       "      <td>False</td>\n",
       "      <td>tl</td>\n",
       "      <td>9/29/2020</td>\n",
       "      <td>17</td>\n",
       "    </tr>\n",
       "    <tr>\n",
       "      <th>4</th>\n",
       "      <td>2020-09-29 16:00:03+00:00</td>\n",
       "      <td>1310972617210433537</td>\n",
       "      <td>1310972617210433537</td>\n",
       "      <td>BONG BONG BONG BONG BONG</td>\n",
       "      <td>False</td>\n",
       "      <td>{'hashtags': [], 'symbols': [], 'user_mentions...</td>\n",
       "      <td>&lt;a href=\"http://www.floodgap.com/software/ttyt...</td>\n",
       "      <td>None</td>\n",
       "      <td>None</td>\n",
       "      <td>None</td>\n",
       "      <td>...</td>\n",
       "      <td>None</td>\n",
       "      <td>None</td>\n",
       "      <td>False</td>\n",
       "      <td>14</td>\n",
       "      <td>83</td>\n",
       "      <td>False</td>\n",
       "      <td>False</td>\n",
       "      <td>tl</td>\n",
       "      <td>9/29/2020</td>\n",
       "      <td>16</td>\n",
       "    </tr>\n",
       "  </tbody>\n",
       "</table>\n",
       "<p>5 rows × 25 columns</p>\n",
       "</div>"
      ],
      "text/plain": [
       "                 created_at                   id               id_str  \\\n",
       "0 2020-09-29 20:04:05+00:00  1311034031853756416  1311034031853756416   \n",
       "1 2020-09-29 19:00:03+00:00  1311017917274828801  1311017917274828801   \n",
       "2 2020-09-29 18:01:04+00:00  1311003070843805696  1311003070843805696   \n",
       "3 2020-09-29 17:01:03+00:00  1310987968325332993  1310987968325332993   \n",
       "4 2020-09-29 16:00:03+00:00  1310972617210433537  1310972617210433537   \n",
       "\n",
       "                                           text  truncated  \\\n",
       "0  BONG BONG BONG BONG BONG BONG BONG BONG BONG      False   \n",
       "1       BONG BONG BONG BONG BONG BONG BONG BONG      False   \n",
       "2            BONG BONG BONG BONG BONG BONG BONG      False   \n",
       "3                 BONG BONG BONG BONG BONG BONG      False   \n",
       "4                      BONG BONG BONG BONG BONG      False   \n",
       "\n",
       "                                            entities  \\\n",
       "0  {'hashtags': [], 'symbols': [], 'user_mentions...   \n",
       "1  {'hashtags': [], 'symbols': [], 'user_mentions...   \n",
       "2  {'hashtags': [], 'symbols': [], 'user_mentions...   \n",
       "3  {'hashtags': [], 'symbols': [], 'user_mentions...   \n",
       "4  {'hashtags': [], 'symbols': [], 'user_mentions...   \n",
       "\n",
       "                                              source in_reply_to_status_id  \\\n",
       "0  <a href=\"http://www.floodgap.com/software/ttyt...                  None   \n",
       "1  <a href=\"http://www.floodgap.com/software/ttyt...                  None   \n",
       "2  <a href=\"http://www.floodgap.com/software/ttyt...                  None   \n",
       "3  <a href=\"http://www.floodgap.com/software/ttyt...                  None   \n",
       "4  <a href=\"http://www.floodgap.com/software/ttyt...                  None   \n",
       "\n",
       "  in_reply_to_status_id_str in_reply_to_user_id  ... place contributors  \\\n",
       "0                      None                None  ...  None         None   \n",
       "1                      None                None  ...  None         None   \n",
       "2                      None                None  ...  None         None   \n",
       "3                      None                None  ...  None         None   \n",
       "4                      None                None  ...  None         None   \n",
       "\n",
       "  is_quote_status retweet_count favorite_count favorited retweeted  lang  \\\n",
       "0           False            10             72     False     False    tl   \n",
       "1           False            14             87     False     False    tl   \n",
       "2           False            23             83     False     False    tl   \n",
       "3           False            18             90     False     False    tl   \n",
       "4           False            14             83     False     False    tl   \n",
       "\n",
       "        date  hour  \n",
       "0  9/29/2020    20  \n",
       "1  9/29/2020    19  \n",
       "2  9/29/2020    18  \n",
       "3  9/29/2020    17  \n",
       "4  9/29/2020    16  \n",
       "\n",
       "[5 rows x 25 columns]"
      ]
     },
     "execution_count": 344,
     "metadata": {},
     "output_type": "execute_result"
    }
   ],
   "source": [
    "big_ben_tweet_dict['2020'].head()"
   ]
  },
  {
   "cell_type": "markdown",
   "metadata": {},
   "source": [
    "* Save tweets to csv files"
   ]
  },
  {
   "cell_type": "code",
   "execution_count": 294,
   "metadata": {},
   "outputs": [],
   "source": [
    "import os\n",
    "#Save dataframes to one csv\n",
    "def save_big_ben_to_csv(big_ben_dict, file_name='big_ben_clock_tweets_2020.csv'):\n",
    "    for year in big_ben_dict.keys():\n",
    "        # if file does not exist write header \n",
    "        if not os.path.isfile('filename.csv'):\n",
    "            big_ben_dict[year].to_csv(file_name, header='column_names')\n",
    "        # else append dataframe to csv without header\n",
    "        else: \n",
    "            big_ben_dict[year].to_csv(file_name, mode='a', header=False)\n",
    "    return 'Saved!'"
   ]
  },
  {
   "cell_type": "code",
   "execution_count": 295,
   "metadata": {},
   "outputs": [
    {
     "data": {
      "text/plain": [
       "'Saved!'"
      ]
     },
     "execution_count": 295,
     "metadata": {},
     "output_type": "execute_result"
    }
   ],
   "source": [
    "save_big_ben_to_csv(big_ben_tweet_dict)"
   ]
  },
  {
   "cell_type": "markdown",
   "metadata": {},
   "source": [
    "* Now that we have a dictionary containing dataframes for big_ben_clock's 2020 tweets, let's create a new dictionary that uses specific dates as keys, with tweet ids as values"
   ]
  },
  {
   "cell_type": "code",
   "execution_count": 340,
   "metadata": {},
   "outputs": [],
   "source": [
    "#Function to create a dictionary of tweet ids for a specific time each day\n",
    "#default search_clock_time is set to 0, which corresponds to midnight, twitter time/1am London time/8pm ET\n",
    "def create_time_id(clock_df, search_clock_time=0):\n",
    "    clock_df['created_at']=pd.to_datetime(clock_df['created_at'])\n",
    "    clock_df['date']=clock_df['created_at'].apply(lambda x: f'{x.month}/{x.day}/{x.year}')\n",
    "    clock_df['hour']=clock_df['created_at'].apply(lambda x: x.hour)\n",
    "    time_dict_list=[]\n",
    "    for record in clock_df.to_dict('records'):\n",
    "        time_dict={}\n",
    "        if record['hour']==search_clock_time:\n",
    "            time_dict['date']=record['date']\n",
    "            time_dict['id']=record['id']\n",
    "            time_dict_list.append(time_dict)   \n",
    "    return time_dict_list    "
   ]
  },
  {
   "cell_type": "code",
   "execution_count": 341,
   "metadata": {},
   "outputs": [],
   "source": [
    "big_ben_time_dicts={year: create_time_id(clock_df=big_ben_tweet_dict[year]) for year in big_ben_tweet_dict.keys()}"
   ]
  },
  {
   "cell_type": "code",
   "execution_count": 473,
   "metadata": {},
   "outputs": [
    {
     "data": {
      "text/plain": [
       "[{'date': '9/29/2020', 'id': 1310731279176998913},\n",
       " {'date': '9/28/2020', 'id': 1310368636897554433},\n",
       " {'date': '9/27/2020', 'id': 1310007009396371456},\n",
       " {'date': '9/26/2020', 'id': 1309644369943764993},\n",
       " {'date': '9/25/2020', 'id': 1309281980207562756}]"
      ]
     },
     "execution_count": 473,
     "metadata": {},
     "output_type": "execute_result"
    }
   ],
   "source": [
    "big_ben_time_dicts['2020'][:5]"
   ]
  },
  {
   "cell_type": "code",
   "execution_count": 345,
   "metadata": {},
   "outputs": [],
   "source": [
    "time_ids_df=pd.DataFrame(big_ben_time_dicts['2020'])"
   ]
  },
  {
   "cell_type": "code",
   "execution_count": 346,
   "metadata": {},
   "outputs": [
    {
     "data": {
      "text/plain": [
       "231"
      ]
     },
     "execution_count": 346,
     "metadata": {},
     "output_type": "execute_result"
    }
   ],
   "source": [
    "len(time_ids_df)"
   ]
  },
  {
   "cell_type": "code",
   "execution_count": 475,
   "metadata": {},
   "outputs": [
    {
     "data": {
      "text/html": [
       "<div>\n",
       "<style scoped>\n",
       "    .dataframe tbody tr th:only-of-type {\n",
       "        vertical-align: middle;\n",
       "    }\n",
       "\n",
       "    .dataframe tbody tr th {\n",
       "        vertical-align: top;\n",
       "    }\n",
       "\n",
       "    .dataframe thead th {\n",
       "        text-align: right;\n",
       "    }\n",
       "</style>\n",
       "<table border=\"1\" class=\"dataframe\">\n",
       "  <thead>\n",
       "    <tr style=\"text-align: right;\">\n",
       "      <th></th>\n",
       "      <th>date</th>\n",
       "      <th>id</th>\n",
       "    </tr>\n",
       "  </thead>\n",
       "  <tbody>\n",
       "    <tr>\n",
       "      <th>0</th>\n",
       "      <td>9/29/2020</td>\n",
       "      <td>1310731279176998913</td>\n",
       "    </tr>\n",
       "    <tr>\n",
       "      <th>1</th>\n",
       "      <td>9/28/2020</td>\n",
       "      <td>1310368636897554433</td>\n",
       "    </tr>\n",
       "    <tr>\n",
       "      <th>2</th>\n",
       "      <td>9/27/2020</td>\n",
       "      <td>1310007009396371456</td>\n",
       "    </tr>\n",
       "    <tr>\n",
       "      <th>3</th>\n",
       "      <td>9/26/2020</td>\n",
       "      <td>1309644369943764993</td>\n",
       "    </tr>\n",
       "    <tr>\n",
       "      <th>4</th>\n",
       "      <td>9/25/2020</td>\n",
       "      <td>1309281980207562756</td>\n",
       "    </tr>\n",
       "    <tr>\n",
       "      <th>...</th>\n",
       "      <td>...</td>\n",
       "      <td>...</td>\n",
       "    </tr>\n",
       "    <tr>\n",
       "      <th>226</th>\n",
       "      <td>2/4/2020</td>\n",
       "      <td>1224483473341198336</td>\n",
       "    </tr>\n",
       "    <tr>\n",
       "      <th>227</th>\n",
       "      <td>2/3/2020</td>\n",
       "      <td>1224120845557280768</td>\n",
       "    </tr>\n",
       "    <tr>\n",
       "      <th>228</th>\n",
       "      <td>2/2/2020</td>\n",
       "      <td>1223758208369602564</td>\n",
       "    </tr>\n",
       "    <tr>\n",
       "      <th>229</th>\n",
       "      <td>2/1/2020</td>\n",
       "      <td>1223395561912573952</td>\n",
       "    </tr>\n",
       "    <tr>\n",
       "      <th>230</th>\n",
       "      <td>1/1/2020</td>\n",
       "      <td>1212161809018437633</td>\n",
       "    </tr>\n",
       "  </tbody>\n",
       "</table>\n",
       "<p>231 rows × 2 columns</p>\n",
       "</div>"
      ],
      "text/plain": [
       "          date                   id\n",
       "0    9/29/2020  1310731279176998913\n",
       "1    9/28/2020  1310368636897554433\n",
       "2    9/27/2020  1310007009396371456\n",
       "3    9/26/2020  1309644369943764993\n",
       "4    9/25/2020  1309281980207562756\n",
       "..         ...                  ...\n",
       "226   2/4/2020  1224483473341198336\n",
       "227   2/3/2020  1224120845557280768\n",
       "228   2/2/2020  1223758208369602564\n",
       "229   2/1/2020  1223395561912573952\n",
       "230   1/1/2020  1212161809018437633\n",
       "\n",
       "[231 rows x 2 columns]"
      ]
     },
     "execution_count": 475,
     "metadata": {},
     "output_type": "execute_result"
    }
   ],
   "source": [
    "time_ids_df"
   ]
  },
  {
   "cell_type": "code",
   "execution_count": 348,
   "metadata": {},
   "outputs": [],
   "source": [
    "time_ids_df.to_csv('time_ids.csv')"
   ]
  },
  {
   "cell_type": "markdown",
   "metadata": {},
   "source": [
    "* There appears to be a large gap in tweet activity in January. If all calendar days were represented by 'big_ben_clock'activity, there should be 273 rows, however we only have 231. This is far from a perfect solution, but still gives the user slightly more control over time periods in Tweepy \n",
    "\n",
    "* Let's try it out:"
   ]
  },
  {
   "cell_type": "markdown",
   "metadata": {},
   "source": [
    "### Scrape tweets from other users using defined time/tweet ids from big_ben_clock"
   ]
  },
  {
   "cell_type": "markdown",
   "metadata": {},
   "source": [
    "* Step 1: Import time ids from csv"
   ]
  },
  {
   "cell_type": "code",
   "execution_count": 354,
   "metadata": {},
   "outputs": [],
   "source": [
    "loaded_time_df=pd.read_csv('time_ids.csv', index_col=0)"
   ]
  },
  {
   "cell_type": "markdown",
   "metadata": {},
   "source": [
    "* Step 2: Write function to return tweet id from date "
   ]
  },
  {
   "cell_type": "code",
   "execution_count": 517,
   "metadata": {},
   "outputs": [],
   "source": [
    "#Function to return tweet id from given date\n",
    "def get_tweepy_date_id(time_id_file='time_ids.csv', date='2/1/2020'):\n",
    "    loaded_time_df=pd.read_csv(time_id_file, index_col=0)\n",
    "    time_dict={record['date']:record['id'] for record in loaded_time_df.to_dict('records')}\n",
    "    if date in time_dict:\n",
    "        return time_dict[date]\n",
    "    else:\n",
    "        return 'Date not present; choose a different date'"
   ]
  },
  {
   "cell_type": "code",
   "execution_count": 518,
   "metadata": {},
   "outputs": [
    {
     "data": {
      "text/plain": [
       "1212161809018437633"
      ]
     },
     "execution_count": 518,
     "metadata": {},
     "output_type": "execute_result"
    }
   ],
   "source": [
    "get_tweepy_date_id(date='1/1/2020')"
   ]
  },
  {
   "cell_type": "code",
   "execution_count": 519,
   "metadata": {},
   "outputs": [
    {
     "data": {
      "text/plain": [
       "False"
      ]
     },
     "execution_count": 519,
     "metadata": {},
     "output_type": "execute_result"
    }
   ],
   "source": [
    "type(get_tweepy_date_id(date='6/1/2020')) is int and type(get_tweepy_date_id(date='1/2/2020')) is int"
   ]
  },
  {
   "cell_type": "code",
   "execution_count": 520,
   "metadata": {},
   "outputs": [
    {
     "data": {
      "text/plain": [
       "'Date not present; choose a different date'"
      ]
     },
     "execution_count": 520,
     "metadata": {},
     "output_type": "execute_result"
    }
   ],
   "source": [
    "get_tweepy_date_id(date='1/2/2020')"
   ]
  },
  {
   "cell_type": "code",
   "execution_count": 525,
   "metadata": {},
   "outputs": [],
   "source": [
    "#Function to check if date ranges are valid\n",
    "def get_date_ranges(time_id_file='time_ids.csv', since_date='6/1/2020', until_date='9/29/2020'):\n",
    "    not_valid=True\n",
    "    while not_valid:\n",
    "        since_date=input(\"Enter start date for scraping (e.g. '6/1/2020'): \")\n",
    "        since_id= get_tweepy_date_id(time_id_file='time_ids.csv', date=since_date)                \n",
    "        until_date=input(\"Enter end date for scraping (e.g. '9/29/2020'): \")\n",
    "        until_id= get_tweepy_date_id(time_id_file='time_ids.csv', date=until_date)\n",
    "        if type(since_id) is int and type(until_id) is int:\n",
    "            not_valid=False\n",
    "        return [since_id, until_id]"
   ]
  },
  {
   "cell_type": "code",
   "execution_count": 536,
   "metadata": {},
   "outputs": [
    {
     "data": {
      "text/plain": [
       "1307107654427463682"
      ]
     },
     "execution_count": 536,
     "metadata": {},
     "output_type": "execute_result"
    }
   ],
   "source": [
    "get_tweepy_date_id(time_id_file='time_ids.csv', date='9/19/2020')"
   ]
  },
  {
   "cell_type": "code",
   "execution_count": 531,
   "metadata": {},
   "outputs": [
    {
     "name": "stdout",
     "output_type": "stream",
     "text": [
      "Enter start date for scraping (e.g. '6/1/2020'): 6/1/2020\n",
      "Enter end date for scraping (e.g. '9/29/2020'): 9/29/2020\n"
     ]
    },
    {
     "data": {
      "text/plain": [
       "[1267244474989793280, 1310731279176998913]"
      ]
     },
     "execution_count": 531,
     "metadata": {},
     "output_type": "execute_result"
    }
   ],
   "source": [
    "get_date_ranges(time_id_file='time_ids.csv')"
   ]
  },
  {
   "cell_type": "markdown",
   "metadata": {},
   "source": [
    "* Step 3: Retrieve tweets from Tweepy for a different user. Let's get Barack Obama's tweets from Feb 28-May 24 2020. \n",
    "* First, double check dates are available:"
   ]
  },
  {
   "cell_type": "code",
   "execution_count": 481,
   "metadata": {},
   "outputs": [
    {
     "data": {
      "text/plain": [
       "1233180394251575297"
      ]
     },
     "execution_count": 481,
     "metadata": {},
     "output_type": "execute_result"
    }
   ],
   "source": [
    "get_tweepy_date_id(date='2/28/2020')"
   ]
  },
  {
   "cell_type": "code",
   "execution_count": 482,
   "metadata": {},
   "outputs": [
    {
     "data": {
      "text/plain": [
       "1264345877252096006"
      ]
     },
     "execution_count": 482,
     "metadata": {},
     "output_type": "execute_result"
    }
   ],
   "source": [
    "get_tweepy_date_id(date='5/24/2020')"
   ]
  },
  {
   "cell_type": "markdown",
   "metadata": {},
   "source": [
    "* Initialize Tweepy class"
   ]
  },
  {
   "cell_type": "code",
   "execution_count": 435,
   "metadata": {},
   "outputs": [],
   "source": [
    "barack_tweets=Tweepy(api, 'barackobama')"
   ]
  },
  {
   "cell_type": "markdown",
   "metadata": {},
   "source": [
    "* Use 'get_user_tweets' method from Tweepy class and 'get_tweepy_date_id' function to set the date range from which to collect tweets from."
   ]
  },
  {
   "cell_type": "code",
   "execution_count": 466,
   "metadata": {},
   "outputs": [],
   "source": [
    "#'since_id' is start date; 'max_id' is end date; num_tweets is number of tweets you want to collect\n",
    "#num_tweets=0 default returns all tweets (~last 3200)\n",
    "bo_df=barack_tweets.get_user_tweets(since_id=get_tweepy_date_id(date='2/28/2020'), max_id=get_tweepy_date_id(date='5/24/2020'))"
   ]
  },
  {
   "cell_type": "code",
   "execution_count": 499,
   "metadata": {},
   "outputs": [
    {
     "data": {
      "text/html": [
       "<div>\n",
       "<style scoped>\n",
       "    .dataframe tbody tr th:only-of-type {\n",
       "        vertical-align: middle;\n",
       "    }\n",
       "\n",
       "    .dataframe tbody tr th {\n",
       "        vertical-align: top;\n",
       "    }\n",
       "\n",
       "    .dataframe thead th {\n",
       "        text-align: right;\n",
       "    }\n",
       "</style>\n",
       "<table border=\"1\" class=\"dataframe\">\n",
       "  <thead>\n",
       "    <tr style=\"text-align: right;\">\n",
       "      <th></th>\n",
       "      <th>created_at</th>\n",
       "      <th>id</th>\n",
       "      <th>id_str</th>\n",
       "      <th>full_text</th>\n",
       "      <th>truncated</th>\n",
       "      <th>display_text_range</th>\n",
       "      <th>entities</th>\n",
       "      <th>source</th>\n",
       "      <th>in_reply_to_status_id</th>\n",
       "      <th>in_reply_to_status_id_str</th>\n",
       "      <th>...</th>\n",
       "      <th>favorited</th>\n",
       "      <th>retweeted</th>\n",
       "      <th>possibly_sensitive</th>\n",
       "      <th>lang</th>\n",
       "      <th>quoted_status_id</th>\n",
       "      <th>quoted_status_id_str</th>\n",
       "      <th>quoted_status_permalink</th>\n",
       "      <th>quoted_status</th>\n",
       "      <th>extended_entities</th>\n",
       "      <th>retweeted_status</th>\n",
       "    </tr>\n",
       "  </thead>\n",
       "  <tbody>\n",
       "    <tr>\n",
       "      <th>0</th>\n",
       "      <td>Sat May 23 21:55:57 +0000 2020</td>\n",
       "      <td>1264314146717384712</td>\n",
       "      <td>1264314146717384712</td>\n",
       "      <td>And here’s more on the approach Sweden has tak...</td>\n",
       "      <td>False</td>\n",
       "      <td>[0, 117]</td>\n",
       "      <td>{'hashtags': [], 'symbols': [], 'user_mentions...</td>\n",
       "      <td>&lt;a href=\"https://mobile.twitter.com\" rel=\"nofo...</td>\n",
       "      <td>1.264314e+18</td>\n",
       "      <td>1264314145899503616</td>\n",
       "      <td>...</td>\n",
       "      <td>False</td>\n",
       "      <td>False</td>\n",
       "      <td>False</td>\n",
       "      <td>en</td>\n",
       "      <td>NaN</td>\n",
       "      <td>NaN</td>\n",
       "      <td>NaN</td>\n",
       "      <td>NaN</td>\n",
       "      <td>NaN</td>\n",
       "      <td>NaN</td>\n",
       "    </tr>\n",
       "    <tr>\n",
       "      <th>1</th>\n",
       "      <td>Sat May 23 21:55:56 +0000 2020</td>\n",
       "      <td>1264314145899503616</td>\n",
       "      <td>1264314145899503616</td>\n",
       "      <td>South Korea has focused on testing to guard ag...</td>\n",
       "      <td>False</td>\n",
       "      <td>[0, 87]</td>\n",
       "      <td>{'hashtags': [], 'symbols': [], 'user_mentions...</td>\n",
       "      <td>&lt;a href=\"https://mobile.twitter.com\" rel=\"nofo...</td>\n",
       "      <td>1.264314e+18</td>\n",
       "      <td>1264314143869460484</td>\n",
       "      <td>...</td>\n",
       "      <td>False</td>\n",
       "      <td>False</td>\n",
       "      <td>False</td>\n",
       "      <td>en</td>\n",
       "      <td>NaN</td>\n",
       "      <td>NaN</td>\n",
       "      <td>NaN</td>\n",
       "      <td>NaN</td>\n",
       "      <td>NaN</td>\n",
       "      <td>NaN</td>\n",
       "    </tr>\n",
       "    <tr>\n",
       "      <th>2</th>\n",
       "      <td>Sat May 23 21:55:56 +0000 2020</td>\n",
       "      <td>1264314143869460484</td>\n",
       "      <td>1264314143869460484</td>\n",
       "      <td>As all 50 states begin the process of reopenin...</td>\n",
       "      <td>False</td>\n",
       "      <td>[0, 251]</td>\n",
       "      <td>{'hashtags': [], 'symbols': [], 'user_mentions...</td>\n",
       "      <td>&lt;a href=\"https://mobile.twitter.com\" rel=\"nofo...</td>\n",
       "      <td>NaN</td>\n",
       "      <td>None</td>\n",
       "      <td>...</td>\n",
       "      <td>False</td>\n",
       "      <td>False</td>\n",
       "      <td>False</td>\n",
       "      <td>en</td>\n",
       "      <td>NaN</td>\n",
       "      <td>NaN</td>\n",
       "      <td>NaN</td>\n",
       "      <td>NaN</td>\n",
       "      <td>NaN</td>\n",
       "      <td>NaN</td>\n",
       "    </tr>\n",
       "    <tr>\n",
       "      <th>3</th>\n",
       "      <td>Sat May 23 18:03:41 +0000 2020</td>\n",
       "      <td>1264255694729084930</td>\n",
       "      <td>1264255694729084930</td>\n",
       "      <td>The Class of 2020 is full of the leaders we ne...</td>\n",
       "      <td>False</td>\n",
       "      <td>[0, 211]</td>\n",
       "      <td>{'hashtags': [], 'symbols': [], 'user_mentions...</td>\n",
       "      <td>&lt;a href=\"http://twitter.com/download/iphone\" r...</td>\n",
       "      <td>NaN</td>\n",
       "      <td>None</td>\n",
       "      <td>...</td>\n",
       "      <td>False</td>\n",
       "      <td>False</td>\n",
       "      <td>False</td>\n",
       "      <td>en</td>\n",
       "      <td>1.264240e+18</td>\n",
       "      <td>1264239670184968192</td>\n",
       "      <td>{'url': 'https://t.co/Qlr5ivBvpJ', 'expanded':...</td>\n",
       "      <td>{'created_at': 'Sat May 23 17:00:00 +0000 2020...</td>\n",
       "      <td>NaN</td>\n",
       "      <td>NaN</td>\n",
       "    </tr>\n",
       "    <tr>\n",
       "      <th>4</th>\n",
       "      <td>Wed May 20 21:34:17 +0000 2020</td>\n",
       "      <td>1263221534094774272</td>\n",
       "      <td>1263221534094774272</td>\n",
       "      <td>As Chicago navigates the health crisis, its re...</td>\n",
       "      <td>False</td>\n",
       "      <td>[0, 237]</td>\n",
       "      <td>{'hashtags': [], 'symbols': [], 'user_mentions...</td>\n",
       "      <td>&lt;a href=\"http://twitter.com/download/iphone\" r...</td>\n",
       "      <td>NaN</td>\n",
       "      <td>None</td>\n",
       "      <td>...</td>\n",
       "      <td>False</td>\n",
       "      <td>False</td>\n",
       "      <td>False</td>\n",
       "      <td>en</td>\n",
       "      <td>1.263166e+18</td>\n",
       "      <td>1263166150923468800</td>\n",
       "      <td>{'url': 'https://t.co/ALo7kusc8K', 'expanded':...</td>\n",
       "      <td>{'created_at': 'Wed May 20 17:54:13 +0000 2020...</td>\n",
       "      <td>NaN</td>\n",
       "      <td>NaN</td>\n",
       "    </tr>\n",
       "  </tbody>\n",
       "</table>\n",
       "<p>5 rows × 31 columns</p>\n",
       "</div>"
      ],
      "text/plain": [
       "                       created_at                   id               id_str  \\\n",
       "0  Sat May 23 21:55:57 +0000 2020  1264314146717384712  1264314146717384712   \n",
       "1  Sat May 23 21:55:56 +0000 2020  1264314145899503616  1264314145899503616   \n",
       "2  Sat May 23 21:55:56 +0000 2020  1264314143869460484  1264314143869460484   \n",
       "3  Sat May 23 18:03:41 +0000 2020  1264255694729084930  1264255694729084930   \n",
       "4  Wed May 20 21:34:17 +0000 2020  1263221534094774272  1263221534094774272   \n",
       "\n",
       "                                           full_text  truncated  \\\n",
       "0  And here’s more on the approach Sweden has tak...      False   \n",
       "1  South Korea has focused on testing to guard ag...      False   \n",
       "2  As all 50 states begin the process of reopenin...      False   \n",
       "3  The Class of 2020 is full of the leaders we ne...      False   \n",
       "4  As Chicago navigates the health crisis, its re...      False   \n",
       "\n",
       "  display_text_range                                           entities  \\\n",
       "0           [0, 117]  {'hashtags': [], 'symbols': [], 'user_mentions...   \n",
       "1            [0, 87]  {'hashtags': [], 'symbols': [], 'user_mentions...   \n",
       "2           [0, 251]  {'hashtags': [], 'symbols': [], 'user_mentions...   \n",
       "3           [0, 211]  {'hashtags': [], 'symbols': [], 'user_mentions...   \n",
       "4           [0, 237]  {'hashtags': [], 'symbols': [], 'user_mentions...   \n",
       "\n",
       "                                              source  in_reply_to_status_id  \\\n",
       "0  <a href=\"https://mobile.twitter.com\" rel=\"nofo...           1.264314e+18   \n",
       "1  <a href=\"https://mobile.twitter.com\" rel=\"nofo...           1.264314e+18   \n",
       "2  <a href=\"https://mobile.twitter.com\" rel=\"nofo...                    NaN   \n",
       "3  <a href=\"http://twitter.com/download/iphone\" r...                    NaN   \n",
       "4  <a href=\"http://twitter.com/download/iphone\" r...                    NaN   \n",
       "\n",
       "  in_reply_to_status_id_str  ...  favorited retweeted possibly_sensitive lang  \\\n",
       "0       1264314145899503616  ...      False     False              False   en   \n",
       "1       1264314143869460484  ...      False     False              False   en   \n",
       "2                      None  ...      False     False              False   en   \n",
       "3                      None  ...      False     False              False   en   \n",
       "4                      None  ...      False     False              False   en   \n",
       "\n",
       "  quoted_status_id quoted_status_id_str  \\\n",
       "0              NaN                  NaN   \n",
       "1              NaN                  NaN   \n",
       "2              NaN                  NaN   \n",
       "3     1.264240e+18  1264239670184968192   \n",
       "4     1.263166e+18  1263166150923468800   \n",
       "\n",
       "                             quoted_status_permalink  \\\n",
       "0                                                NaN   \n",
       "1                                                NaN   \n",
       "2                                                NaN   \n",
       "3  {'url': 'https://t.co/Qlr5ivBvpJ', 'expanded':...   \n",
       "4  {'url': 'https://t.co/ALo7kusc8K', 'expanded':...   \n",
       "\n",
       "                                       quoted_status  extended_entities  \\\n",
       "0                                                NaN                NaN   \n",
       "1                                                NaN                NaN   \n",
       "2                                                NaN                NaN   \n",
       "3  {'created_at': 'Sat May 23 17:00:00 +0000 2020...                NaN   \n",
       "4  {'created_at': 'Wed May 20 17:54:13 +0000 2020...                NaN   \n",
       "\n",
       "   retweeted_status  \n",
       "0               NaN  \n",
       "1               NaN  \n",
       "2               NaN  \n",
       "3               NaN  \n",
       "4               NaN  \n",
       "\n",
       "[5 rows x 31 columns]"
      ]
     },
     "execution_count": 499,
     "metadata": {},
     "output_type": "execute_result"
    }
   ],
   "source": [
    "bo_df.head()"
   ]
  },
  {
   "cell_type": "code",
   "execution_count": 498,
   "metadata": {},
   "outputs": [
    {
     "data": {
      "text/plain": [
       "created_at                                      Sat May 23 21:55:57 +0000 2020\n",
       "id                                                         1264314146717384712\n",
       "id_str                                                     1264314146717384712\n",
       "full_text                    And here’s more on the approach Sweden has tak...\n",
       "truncated                                                                False\n",
       "display_text_range                                                    [0, 117]\n",
       "entities                     {'hashtags': [], 'symbols': [], 'user_mentions...\n",
       "source                       <a href=\"https://mobile.twitter.com\" rel=\"nofo...\n",
       "in_reply_to_status_id                                              1.26431e+18\n",
       "in_reply_to_status_id_str                                  1264314145899503616\n",
       "in_reply_to_user_id                                                     813286\n",
       "in_reply_to_user_id_str                                                 813286\n",
       "in_reply_to_screen_name                                            BarackObama\n",
       "user                         {'id': 813286, 'id_str': '813286', 'name': 'Ba...\n",
       "geo                                                                       None\n",
       "coordinates                                                               None\n",
       "place                                                                     None\n",
       "contributors                                                              None\n",
       "is_quote_status                                                          False\n",
       "retweet_count                                                             4165\n",
       "favorite_count                                                           22998\n",
       "favorited                                                                False\n",
       "retweeted                                                                False\n",
       "possibly_sensitive                                                       False\n",
       "lang                                                                        en\n",
       "quoted_status_id                                                           NaN\n",
       "quoted_status_id_str                                                       NaN\n",
       "quoted_status_permalink                                                    NaN\n",
       "quoted_status                                                              NaN\n",
       "extended_entities                                                          NaN\n",
       "retweeted_status                                                           NaN\n",
       "Name: 0, dtype: object"
      ]
     },
     "execution_count": 498,
     "metadata": {},
     "output_type": "execute_result"
    }
   ],
   "source": [
    "bo_df.iloc[0]"
   ]
  },
  {
   "cell_type": "code",
   "execution_count": 490,
   "metadata": {},
   "outputs": [
    {
     "data": {
      "text/plain": [
       "Index(['created_at', 'id', 'id_str', 'full_text', 'truncated',\n",
       "       'display_text_range', 'entities', 'source', 'in_reply_to_status_id',\n",
       "       'in_reply_to_status_id_str', 'in_reply_to_user_id',\n",
       "       'in_reply_to_user_id_str', 'in_reply_to_screen_name', 'user', 'geo',\n",
       "       'coordinates', 'place', 'contributors', 'is_quote_status',\n",
       "       'retweet_count', 'favorite_count', 'favorited', 'retweeted',\n",
       "       'possibly_sensitive', 'lang', 'quoted_status_id',\n",
       "       'quoted_status_id_str', 'quoted_status_permalink', 'quoted_status',\n",
       "       'extended_entities', 'retweeted_status'],\n",
       "      dtype='object')"
      ]
     },
     "execution_count": 490,
     "metadata": {},
     "output_type": "execute_result"
    }
   ],
   "source": [
    "bo_df.columns"
   ]
  },
  {
   "cell_type": "code",
   "execution_count": 544,
   "metadata": {},
   "outputs": [],
   "source": [
    "bo_df.to_csv('tweet_csv/barack_tweets.csv', index=None)"
   ]
  },
  {
   "cell_type": "code",
   "execution_count": 542,
   "metadata": {},
   "outputs": [],
   "source": [
    "new_df=pd.read_csv('tweet_csv/barack_tweets.csv')"
   ]
  },
  {
   "cell_type": "code",
   "execution_count": 543,
   "metadata": {},
   "outputs": [
    {
     "data": {
      "text/html": [
       "<div>\n",
       "<style scoped>\n",
       "    .dataframe tbody tr th:only-of-type {\n",
       "        vertical-align: middle;\n",
       "    }\n",
       "\n",
       "    .dataframe tbody tr th {\n",
       "        vertical-align: top;\n",
       "    }\n",
       "\n",
       "    .dataframe thead th {\n",
       "        text-align: right;\n",
       "    }\n",
       "</style>\n",
       "<table border=\"1\" class=\"dataframe\">\n",
       "  <thead>\n",
       "    <tr style=\"text-align: right;\">\n",
       "      <th></th>\n",
       "      <th>created_at</th>\n",
       "      <th>id</th>\n",
       "      <th>id_str</th>\n",
       "      <th>full_text</th>\n",
       "      <th>truncated</th>\n",
       "      <th>display_text_range</th>\n",
       "      <th>entities</th>\n",
       "      <th>source</th>\n",
       "      <th>in_reply_to_status_id</th>\n",
       "      <th>in_reply_to_status_id_str</th>\n",
       "      <th>...</th>\n",
       "      <th>favorited</th>\n",
       "      <th>retweeted</th>\n",
       "      <th>possibly_sensitive</th>\n",
       "      <th>lang</th>\n",
       "      <th>quoted_status_id</th>\n",
       "      <th>quoted_status_id_str</th>\n",
       "      <th>quoted_status_permalink</th>\n",
       "      <th>quoted_status</th>\n",
       "      <th>extended_entities</th>\n",
       "      <th>retweeted_status</th>\n",
       "    </tr>\n",
       "  </thead>\n",
       "  <tbody>\n",
       "    <tr>\n",
       "      <th>0</th>\n",
       "      <td>Sat May 23 21:55:57 +0000 2020</td>\n",
       "      <td>1264314146717384712</td>\n",
       "      <td>1264314146717384712</td>\n",
       "      <td>And here’s more on the approach Sweden has tak...</td>\n",
       "      <td>False</td>\n",
       "      <td>[0, 117]</td>\n",
       "      <td>{'hashtags': [], 'symbols': [], 'user_mentions...</td>\n",
       "      <td>&lt;a href=\"https://mobile.twitter.com\" rel=\"nofo...</td>\n",
       "      <td>1.264314e+18</td>\n",
       "      <td>1.264314e+18</td>\n",
       "      <td>...</td>\n",
       "      <td>False</td>\n",
       "      <td>False</td>\n",
       "      <td>False</td>\n",
       "      <td>en</td>\n",
       "      <td>NaN</td>\n",
       "      <td>NaN</td>\n",
       "      <td>NaN</td>\n",
       "      <td>NaN</td>\n",
       "      <td>NaN</td>\n",
       "      <td>NaN</td>\n",
       "    </tr>\n",
       "    <tr>\n",
       "      <th>1</th>\n",
       "      <td>Sat May 23 21:55:56 +0000 2020</td>\n",
       "      <td>1264314145899503616</td>\n",
       "      <td>1264314145899503616</td>\n",
       "      <td>South Korea has focused on testing to guard ag...</td>\n",
       "      <td>False</td>\n",
       "      <td>[0, 87]</td>\n",
       "      <td>{'hashtags': [], 'symbols': [], 'user_mentions...</td>\n",
       "      <td>&lt;a href=\"https://mobile.twitter.com\" rel=\"nofo...</td>\n",
       "      <td>1.264314e+18</td>\n",
       "      <td>1.264314e+18</td>\n",
       "      <td>...</td>\n",
       "      <td>False</td>\n",
       "      <td>False</td>\n",
       "      <td>False</td>\n",
       "      <td>en</td>\n",
       "      <td>NaN</td>\n",
       "      <td>NaN</td>\n",
       "      <td>NaN</td>\n",
       "      <td>NaN</td>\n",
       "      <td>NaN</td>\n",
       "      <td>NaN</td>\n",
       "    </tr>\n",
       "    <tr>\n",
       "      <th>2</th>\n",
       "      <td>Sat May 23 21:55:56 +0000 2020</td>\n",
       "      <td>1264314143869460484</td>\n",
       "      <td>1264314143869460484</td>\n",
       "      <td>As all 50 states begin the process of reopenin...</td>\n",
       "      <td>False</td>\n",
       "      <td>[0, 251]</td>\n",
       "      <td>{'hashtags': [], 'symbols': [], 'user_mentions...</td>\n",
       "      <td>&lt;a href=\"https://mobile.twitter.com\" rel=\"nofo...</td>\n",
       "      <td>NaN</td>\n",
       "      <td>NaN</td>\n",
       "      <td>...</td>\n",
       "      <td>False</td>\n",
       "      <td>False</td>\n",
       "      <td>False</td>\n",
       "      <td>en</td>\n",
       "      <td>NaN</td>\n",
       "      <td>NaN</td>\n",
       "      <td>NaN</td>\n",
       "      <td>NaN</td>\n",
       "      <td>NaN</td>\n",
       "      <td>NaN</td>\n",
       "    </tr>\n",
       "    <tr>\n",
       "      <th>3</th>\n",
       "      <td>Sat May 23 18:03:41 +0000 2020</td>\n",
       "      <td>1264255694729084930</td>\n",
       "      <td>1264255694729084930</td>\n",
       "      <td>The Class of 2020 is full of the leaders we ne...</td>\n",
       "      <td>False</td>\n",
       "      <td>[0, 211]</td>\n",
       "      <td>{'hashtags': [], 'symbols': [], 'user_mentions...</td>\n",
       "      <td>&lt;a href=\"http://twitter.com/download/iphone\" r...</td>\n",
       "      <td>NaN</td>\n",
       "      <td>NaN</td>\n",
       "      <td>...</td>\n",
       "      <td>False</td>\n",
       "      <td>False</td>\n",
       "      <td>False</td>\n",
       "      <td>en</td>\n",
       "      <td>1.264240e+18</td>\n",
       "      <td>1.264240e+18</td>\n",
       "      <td>{'url': 'https://t.co/Qlr5ivBvpJ', 'expanded':...</td>\n",
       "      <td>{'created_at': 'Sat May 23 17:00:00 +0000 2020...</td>\n",
       "      <td>NaN</td>\n",
       "      <td>NaN</td>\n",
       "    </tr>\n",
       "    <tr>\n",
       "      <th>4</th>\n",
       "      <td>Wed May 20 21:34:17 +0000 2020</td>\n",
       "      <td>1263221534094774272</td>\n",
       "      <td>1263221534094774272</td>\n",
       "      <td>As Chicago navigates the health crisis, its re...</td>\n",
       "      <td>False</td>\n",
       "      <td>[0, 237]</td>\n",
       "      <td>{'hashtags': [], 'symbols': [], 'user_mentions...</td>\n",
       "      <td>&lt;a href=\"http://twitter.com/download/iphone\" r...</td>\n",
       "      <td>NaN</td>\n",
       "      <td>NaN</td>\n",
       "      <td>...</td>\n",
       "      <td>False</td>\n",
       "      <td>False</td>\n",
       "      <td>False</td>\n",
       "      <td>en</td>\n",
       "      <td>1.263166e+18</td>\n",
       "      <td>1.263166e+18</td>\n",
       "      <td>{'url': 'https://t.co/ALo7kusc8K', 'expanded':...</td>\n",
       "      <td>{'created_at': 'Wed May 20 17:54:13 +0000 2020...</td>\n",
       "      <td>NaN</td>\n",
       "      <td>NaN</td>\n",
       "    </tr>\n",
       "  </tbody>\n",
       "</table>\n",
       "<p>5 rows × 31 columns</p>\n",
       "</div>"
      ],
      "text/plain": [
       "                       created_at                   id               id_str  \\\n",
       "0  Sat May 23 21:55:57 +0000 2020  1264314146717384712  1264314146717384712   \n",
       "1  Sat May 23 21:55:56 +0000 2020  1264314145899503616  1264314145899503616   \n",
       "2  Sat May 23 21:55:56 +0000 2020  1264314143869460484  1264314143869460484   \n",
       "3  Sat May 23 18:03:41 +0000 2020  1264255694729084930  1264255694729084930   \n",
       "4  Wed May 20 21:34:17 +0000 2020  1263221534094774272  1263221534094774272   \n",
       "\n",
       "                                           full_text  truncated  \\\n",
       "0  And here’s more on the approach Sweden has tak...      False   \n",
       "1  South Korea has focused on testing to guard ag...      False   \n",
       "2  As all 50 states begin the process of reopenin...      False   \n",
       "3  The Class of 2020 is full of the leaders we ne...      False   \n",
       "4  As Chicago navigates the health crisis, its re...      False   \n",
       "\n",
       "  display_text_range                                           entities  \\\n",
       "0           [0, 117]  {'hashtags': [], 'symbols': [], 'user_mentions...   \n",
       "1            [0, 87]  {'hashtags': [], 'symbols': [], 'user_mentions...   \n",
       "2           [0, 251]  {'hashtags': [], 'symbols': [], 'user_mentions...   \n",
       "3           [0, 211]  {'hashtags': [], 'symbols': [], 'user_mentions...   \n",
       "4           [0, 237]  {'hashtags': [], 'symbols': [], 'user_mentions...   \n",
       "\n",
       "                                              source  in_reply_to_status_id  \\\n",
       "0  <a href=\"https://mobile.twitter.com\" rel=\"nofo...           1.264314e+18   \n",
       "1  <a href=\"https://mobile.twitter.com\" rel=\"nofo...           1.264314e+18   \n",
       "2  <a href=\"https://mobile.twitter.com\" rel=\"nofo...                    NaN   \n",
       "3  <a href=\"http://twitter.com/download/iphone\" r...                    NaN   \n",
       "4  <a href=\"http://twitter.com/download/iphone\" r...                    NaN   \n",
       "\n",
       "   in_reply_to_status_id_str  ...  favorited  retweeted possibly_sensitive  \\\n",
       "0               1.264314e+18  ...      False      False              False   \n",
       "1               1.264314e+18  ...      False      False              False   \n",
       "2                        NaN  ...      False      False              False   \n",
       "3                        NaN  ...      False      False              False   \n",
       "4                        NaN  ...      False      False              False   \n",
       "\n",
       "  lang  quoted_status_id  quoted_status_id_str  \\\n",
       "0   en               NaN                   NaN   \n",
       "1   en               NaN                   NaN   \n",
       "2   en               NaN                   NaN   \n",
       "3   en      1.264240e+18          1.264240e+18   \n",
       "4   en      1.263166e+18          1.263166e+18   \n",
       "\n",
       "                             quoted_status_permalink  \\\n",
       "0                                                NaN   \n",
       "1                                                NaN   \n",
       "2                                                NaN   \n",
       "3  {'url': 'https://t.co/Qlr5ivBvpJ', 'expanded':...   \n",
       "4  {'url': 'https://t.co/ALo7kusc8K', 'expanded':...   \n",
       "\n",
       "                                       quoted_status  extended_entities  \\\n",
       "0                                                NaN                NaN   \n",
       "1                                                NaN                NaN   \n",
       "2                                                NaN                NaN   \n",
       "3  {'created_at': 'Sat May 23 17:00:00 +0000 2020...                NaN   \n",
       "4  {'created_at': 'Wed May 20 17:54:13 +0000 2020...                NaN   \n",
       "\n",
       "   retweeted_status  \n",
       "0               NaN  \n",
       "1               NaN  \n",
       "2               NaN  \n",
       "3               NaN  \n",
       "4               NaN  \n",
       "\n",
       "[5 rows x 31 columns]"
      ]
     },
     "execution_count": 543,
     "metadata": {},
     "output_type": "execute_result"
    }
   ],
   "source": [
    "new_df.head()"
   ]
  },
  {
   "cell_type": "markdown",
   "metadata": {},
   "source": [
    "* While not perfect, this method allows the user to target specific tweet dates to collect from, instead of attempting to scrape all of a users tweets before limiting the date range."
   ]
  },
  {
   "cell_type": "code",
   "execution_count": null,
   "metadata": {},
   "outputs": [],
   "source": []
  }
 ],
 "metadata": {
  "kernelspec": {
   "display_name": "Python 3",
   "language": "python",
   "name": "python3"
  },
  "language_info": {
   "codemirror_mode": {
    "name": "ipython",
    "version": 3
   },
   "file_extension": ".py",
   "mimetype": "text/x-python",
   "name": "python",
   "nbconvert_exporter": "python",
   "pygments_lexer": "ipython3",
   "version": "3.7.6"
  }
 },
 "nbformat": 4,
 "nbformat_minor": 4
}
